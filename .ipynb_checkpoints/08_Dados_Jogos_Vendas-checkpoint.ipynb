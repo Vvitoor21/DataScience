{
 "cells": [
  {
   "cell_type": "markdown",
   "metadata": {},
   "source": [
    "# Análises Exploratórias em um arquivo sobre jogos, disponivel no site Kaggle"
   ]
  },
  {
   "cell_type": "code",
   "execution_count": 1,
   "metadata": {},
   "outputs": [
    {
     "data": {
      "text/html": [
       "<div>\n",
       "<style scoped>\n",
       "    .dataframe tbody tr th:only-of-type {\n",
       "        vertical-align: middle;\n",
       "    }\n",
       "\n",
       "    .dataframe tbody tr th {\n",
       "        vertical-align: top;\n",
       "    }\n",
       "\n",
       "    .dataframe thead th {\n",
       "        text-align: right;\n",
       "    }\n",
       "</style>\n",
       "<table border=\"1\" class=\"dataframe\">\n",
       "  <thead>\n",
       "    <tr style=\"text-align: right;\">\n",
       "      <th></th>\n",
       "      <th>Rank</th>\n",
       "      <th>Nome</th>\n",
       "      <th>Plataforma</th>\n",
       "      <th>Ano</th>\n",
       "      <th>Genero</th>\n",
       "      <th>Desenvolvedora</th>\n",
       "      <th>NA_Sales</th>\n",
       "      <th>EU_Sales</th>\n",
       "      <th>JP_Sales</th>\n",
       "      <th>Outras_Vendas</th>\n",
       "      <th>Vendas_Globais</th>\n",
       "    </tr>\n",
       "  </thead>\n",
       "  <tbody>\n",
       "    <tr>\n",
       "      <th>0</th>\n",
       "      <td>1</td>\n",
       "      <td>Wii Sports</td>\n",
       "      <td>Wii</td>\n",
       "      <td>2006.0</td>\n",
       "      <td>Sports</td>\n",
       "      <td>Nintendo</td>\n",
       "      <td>41.49</td>\n",
       "      <td>29.02</td>\n",
       "      <td>3.77</td>\n",
       "      <td>8.46</td>\n",
       "      <td>82.74</td>\n",
       "    </tr>\n",
       "    <tr>\n",
       "      <th>1</th>\n",
       "      <td>2</td>\n",
       "      <td>Super Mario Bros.</td>\n",
       "      <td>NES</td>\n",
       "      <td>1985.0</td>\n",
       "      <td>Platform</td>\n",
       "      <td>Nintendo</td>\n",
       "      <td>29.08</td>\n",
       "      <td>3.58</td>\n",
       "      <td>6.81</td>\n",
       "      <td>0.77</td>\n",
       "      <td>40.24</td>\n",
       "    </tr>\n",
       "    <tr>\n",
       "      <th>2</th>\n",
       "      <td>3</td>\n",
       "      <td>Mario Kart Wii</td>\n",
       "      <td>Wii</td>\n",
       "      <td>2008.0</td>\n",
       "      <td>Racing</td>\n",
       "      <td>Nintendo</td>\n",
       "      <td>15.85</td>\n",
       "      <td>12.88</td>\n",
       "      <td>3.79</td>\n",
       "      <td>3.31</td>\n",
       "      <td>35.82</td>\n",
       "    </tr>\n",
       "    <tr>\n",
       "      <th>3</th>\n",
       "      <td>4</td>\n",
       "      <td>Wii Sports Resort</td>\n",
       "      <td>Wii</td>\n",
       "      <td>2009.0</td>\n",
       "      <td>Sports</td>\n",
       "      <td>Nintendo</td>\n",
       "      <td>15.75</td>\n",
       "      <td>11.01</td>\n",
       "      <td>3.28</td>\n",
       "      <td>2.96</td>\n",
       "      <td>33.00</td>\n",
       "    </tr>\n",
       "    <tr>\n",
       "      <th>4</th>\n",
       "      <td>5</td>\n",
       "      <td>Pokemon Red/Pokemon Blue</td>\n",
       "      <td>GB</td>\n",
       "      <td>1996.0</td>\n",
       "      <td>Role-Playing</td>\n",
       "      <td>Nintendo</td>\n",
       "      <td>11.27</td>\n",
       "      <td>8.89</td>\n",
       "      <td>10.22</td>\n",
       "      <td>1.00</td>\n",
       "      <td>31.37</td>\n",
       "    </tr>\n",
       "  </tbody>\n",
       "</table>\n",
       "</div>"
      ],
      "text/plain": [
       "   Rank                      Nome Plataforma     Ano        Genero  \\\n",
       "0     1                Wii Sports        Wii  2006.0        Sports   \n",
       "1     2         Super Mario Bros.        NES  1985.0      Platform   \n",
       "2     3            Mario Kart Wii        Wii  2008.0        Racing   \n",
       "3     4         Wii Sports Resort        Wii  2009.0        Sports   \n",
       "4     5  Pokemon Red/Pokemon Blue         GB  1996.0  Role-Playing   \n",
       "\n",
       "  Desenvolvedora  NA_Sales  EU_Sales  JP_Sales  Outras_Vendas  Vendas_Globais  \n",
       "0       Nintendo     41.49     29.02      3.77           8.46           82.74  \n",
       "1       Nintendo     29.08      3.58      6.81           0.77           40.24  \n",
       "2       Nintendo     15.85     12.88      3.79           3.31           35.82  \n",
       "3       Nintendo     15.75     11.01      3.28           2.96           33.00  \n",
       "4       Nintendo     11.27      8.89     10.22           1.00           31.37  "
      ]
     },
     "execution_count": 1,
     "metadata": {},
     "output_type": "execute_result"
    }
   ],
   "source": [
    "import pandas as pd\n",
    "import matplotlib.pyplot as plt\n",
    "import seaborn as sns\n",
    "import numpy as np\n",
    "dados = pd.read_csv('C:/Users/vitor/Desktop/Estudos/vgsales.csv')\n",
    "dados.rename(columns = {'Name':'Nome','Platform':'Plataforma','Year':'Ano','Genre':'Genero','Publisher':'Desenvolvedora',\n",
    "                       'Global_Sales':'Vendas_Globais','Other_Sales':'Outras_Vendas'}, inplace = True)\n",
    "dados.head(5)"
   ]
  },
  {
   "cell_type": "code",
   "execution_count": 2,
   "metadata": {},
   "outputs": [
    {
     "data": {
      "text/plain": [
       "16598"
      ]
     },
     "execution_count": 2,
     "metadata": {},
     "output_type": "execute_result"
    }
   ],
   "source": [
    "len(dados)"
   ]
  },
  {
   "cell_type": "code",
   "execution_count": 3,
   "metadata": {},
   "outputs": [
    {
     "data": {
      "text/plain": [
       "Action          3316\n",
       "Sports          2346\n",
       "Misc            1739\n",
       "Role-Playing    1488\n",
       "Shooter         1310\n",
       "Adventure       1286\n",
       "Racing          1249\n",
       "Platform         886\n",
       "Simulation       867\n",
       "Fighting         848\n",
       "Strategy         681\n",
       "Puzzle           582\n",
       "Name: Genero, dtype: int64"
      ]
     },
     "execution_count": 3,
     "metadata": {},
     "output_type": "execute_result"
    }
   ],
   "source": [
    "dados.Genero.value_counts()"
   ]
  },
  {
   "cell_type": "code",
   "execution_count": 4,
   "metadata": {},
   "outputs": [],
   "source": [
    "genero_vendas = dados.groupby('Genero')['Vendas_Globais'].sum()"
   ]
  },
  {
   "cell_type": "code",
   "execution_count": 5,
   "metadata": {},
   "outputs": [
    {
     "data": {
      "text/plain": [
       "Genero\n",
       "Action          1751.18\n",
       "Adventure        239.04\n",
       "Fighting         448.91\n",
       "Misc             809.96\n",
       "Platform         831.37\n",
       "Puzzle           244.95\n",
       "Racing           732.04\n",
       "Role-Playing     927.37\n",
       "Shooter         1037.37\n",
       "Simulation       392.20\n",
       "Sports          1330.93\n",
       "Strategy         175.12\n",
       "Name: Vendas_Globais, dtype: float64"
      ]
     },
     "execution_count": 5,
     "metadata": {},
     "output_type": "execute_result"
    }
   ],
   "source": [
    "genero_vendas"
   ]
  },
  {
   "cell_type": "code",
   "execution_count": 6,
   "metadata": {},
   "outputs": [
    {
     "data": {
      "text/plain": [
       "1751"
      ]
     },
     "execution_count": 6,
     "metadata": {},
     "output_type": "execute_result"
    }
   ],
   "source": [
    "q1 = dados[(dados.Genero == 'Action')]\n",
    "round(sum(q1.Vendas_Globais))"
   ]
  },
  {
   "cell_type": "code",
   "execution_count": 7,
   "metadata": {},
   "outputs": [],
   "source": [
    "dados2 = pd.DataFrame(genero_vendas)\n",
    "dados2.reset_index(inplace = True)\n",
    "dados2.columns\n",
    "dados2 = dados2.sort_values(by = 'Vendas_Globais')"
   ]
  },
  {
   "cell_type": "code",
   "execution_count": 8,
   "metadata": {},
   "outputs": [
    {
     "data": {
      "text/plain": [
       "<BarContainer object of 12 artists>"
      ]
     },
     "execution_count": 8,
     "metadata": {},
     "output_type": "execute_result"
    },
    {
     "data": {
      "image/png": "[encoded data removed]",
      "text/plain": [
       "<Figure size 936x504 with 1 Axes>"
      ]
     },
     "metadata": {
      "needs_background": "light"
     },
     "output_type": "display_data"
    }
   ],
   "source": [
    "plt.figure(figsize = (13,7))\n",
    "plt.bar(dados2.Genero,dados2.Vendas_Globais)"
   ]
  },
  {
   "cell_type": "code",
   "execution_count": 9,
   "metadata": {},
   "outputs": [
    {
     "data": {
      "text/plain": [
       "Text(0.5, 1.0, 'Quantidade mais vendidas de jogos por gênero')"
      ]
     },
     "execution_count": 9,
     "metadata": {},
     "output_type": "execute_result"
    },
    {
     "data": {
      "image/png": "[encoded data removed]",
      "text/plain": [
       "<Figure size 936x504 with 1 Axes>"
      ]
     },
     "metadata": {
      "needs_background": "light"
     },
     "output_type": "display_data"
    }
   ],
   "source": [
    "dados2 = dados2.sort_values(by = 'Vendas_Globais',ascending = False)\n",
    "plt.figure(figsize = (13,7))\n",
    "plt.bar(dados2.Genero, dados2.Vendas_Globais)\n",
    "plt.title('Quantidade mais vendidas de jogos por gênero', fontsize = 18)"
   ]
  },
  {
   "cell_type": "code",
   "execution_count": 10,
   "metadata": {},
   "outputs": [
    {
     "data": {
      "text/plain": [
       "Text(0.5, 1.0, 'Quantidade mais vendidas de jogos por gênero')"
      ]
     },
     "execution_count": 10,
     "metadata": {},
     "output_type": "execute_result"
    },
    {
     "data": {
      "image/png": "[encoded data removed]",
      "text/plain": [
       "<Figure size 936x504 with 1 Axes>"
      ]
     },
     "metadata": {},
     "output_type": "display_data"
    }
   ],
   "source": [
    "sns.set_palette('Accent')\n",
    "sns.set_style('darkgrid')\n",
    "ax = sns.barplot(dados2.Genero, dados2.Vendas_Globais)\n",
    "ax.figure.set_size_inches(13,7)\n",
    "ax.set_title('Quantidade mais vendidas de jogos por gênero', fontsize = 18)"
   ]
  },
  {
   "cell_type": "code",
   "execution_count": 30,
   "metadata": {},
   "outputs": [
    {
     "data": {
      "text/html": [
       "<div>\n",
       "<style scoped>\n",
       "    .dataframe tbody tr th:only-of-type {\n",
       "        vertical-align: middle;\n",
       "    }\n",
       "\n",
       "    .dataframe tbody tr th {\n",
       "        vertical-align: top;\n",
       "    }\n",
       "\n",
       "    .dataframe thead th {\n",
       "        text-align: right;\n",
       "    }\n",
       "</style>\n",
       "<table border=\"1\" class=\"dataframe\">\n",
       "  <thead>\n",
       "    <tr style=\"text-align: right;\">\n",
       "      <th></th>\n",
       "      <th>Genero</th>\n",
       "      <th>Soma das Vendas</th>\n",
       "      <th>Qtd de Desenvolvedoras</th>\n",
       "      <th>Qtd de Plataformas</th>\n",
       "    </tr>\n",
       "  </thead>\n",
       "  <tbody>\n",
       "    <tr>\n",
       "      <th>0</th>\n",
       "      <td>Action</td>\n",
       "      <td>1751.18</td>\n",
       "      <td>3309</td>\n",
       "      <td>3316</td>\n",
       "    </tr>\n",
       "    <tr>\n",
       "      <th>1</th>\n",
       "      <td>Sports</td>\n",
       "      <td>1330.93</td>\n",
       "      <td>2343</td>\n",
       "      <td>2346</td>\n",
       "    </tr>\n",
       "    <tr>\n",
       "      <th>2</th>\n",
       "      <td>Shooter</td>\n",
       "      <td>1037.37</td>\n",
       "      <td>1308</td>\n",
       "      <td>1310</td>\n",
       "    </tr>\n",
       "    <tr>\n",
       "      <th>3</th>\n",
       "      <td>Role-Playing</td>\n",
       "      <td>927.37</td>\n",
       "      <td>1486</td>\n",
       "      <td>1488</td>\n",
       "    </tr>\n",
       "    <tr>\n",
       "      <th>4</th>\n",
       "      <td>Platform</td>\n",
       "      <td>831.37</td>\n",
       "      <td>884</td>\n",
       "      <td>886</td>\n",
       "    </tr>\n",
       "    <tr>\n",
       "      <th>5</th>\n",
       "      <td>Misc</td>\n",
       "      <td>809.96</td>\n",
       "      <td>1712</td>\n",
       "      <td>1739</td>\n",
       "    </tr>\n",
       "    <tr>\n",
       "      <th>6</th>\n",
       "      <td>Racing</td>\n",
       "      <td>732.04</td>\n",
       "      <td>1248</td>\n",
       "      <td>1249</td>\n",
       "    </tr>\n",
       "    <tr>\n",
       "      <th>7</th>\n",
       "      <td>Fighting</td>\n",
       "      <td>448.91</td>\n",
       "      <td>846</td>\n",
       "      <td>848</td>\n",
       "    </tr>\n",
       "    <tr>\n",
       "      <th>8</th>\n",
       "      <td>Simulation</td>\n",
       "      <td>392.20</td>\n",
       "      <td>863</td>\n",
       "      <td>867</td>\n",
       "    </tr>\n",
       "    <tr>\n",
       "      <th>9</th>\n",
       "      <td>Puzzle</td>\n",
       "      <td>244.95</td>\n",
       "      <td>581</td>\n",
       "      <td>582</td>\n",
       "    </tr>\n",
       "    <tr>\n",
       "      <th>10</th>\n",
       "      <td>Adventure</td>\n",
       "      <td>239.04</td>\n",
       "      <td>1282</td>\n",
       "      <td>1286</td>\n",
       "    </tr>\n",
       "    <tr>\n",
       "      <th>11</th>\n",
       "      <td>Strategy</td>\n",
       "      <td>175.12</td>\n",
       "      <td>678</td>\n",
       "      <td>681</td>\n",
       "    </tr>\n",
       "  </tbody>\n",
       "</table>\n",
       "</div>"
      ],
      "text/plain": [
       "          Genero  Soma das Vendas   Qtd de Desenvolvedoras  Qtd de Plataformas\n",
       "0         Action          1751.18                     3309                3316\n",
       "1         Sports          1330.93                     2343                2346\n",
       "2        Shooter          1037.37                     1308                1310\n",
       "3   Role-Playing           927.37                     1486                1488\n",
       "4       Platform           831.37                      884                 886\n",
       "5           Misc           809.96                     1712                1739\n",
       "6         Racing           732.04                     1248                1249\n",
       "7       Fighting           448.91                      846                 848\n",
       "8     Simulation           392.20                      863                 867\n",
       "9         Puzzle           244.95                      581                 582\n",
       "10     Adventure           239.04                     1282                1286\n",
       "11      Strategy           175.12                      678                 681"
      ]
     },
     "execution_count": 30,
     "metadata": {},
     "output_type": "execute_result"
    }
   ],
   "source": [
    "dados_por_genero = dados.groupby('Genero')\n",
    "table = pd.DataFrame({'Soma das Vendas': dados_por_genero.Vendas_Globais.sum(),' Qtd de Desenvolvedoras': dados_por_genero.Desenvolvedora.count(), 'Qtd de Plataformas': dados_por_genero.Plataforma.count()}).sort_values(by = 'Soma das Vendas', ascending = False).reset_index()\n",
    "table"
   ]
  },
  {
   "cell_type": "code",
   "execution_count": 31,
   "metadata": {},
   "outputs": [
    {
     "data": {
      "text/html": [
       "<div>\n",
       "<style scoped>\n",
       "    .dataframe tbody tr th:only-of-type {\n",
       "        vertical-align: middle;\n",
       "    }\n",
       "\n",
       "    .dataframe tbody tr th {\n",
       "        vertical-align: top;\n",
       "    }\n",
       "\n",
       "    .dataframe thead th {\n",
       "        text-align: right;\n",
       "    }\n",
       "</style>\n",
       "<table border=\"1\" class=\"dataframe\">\n",
       "  <thead>\n",
       "    <tr style=\"text-align: right;\">\n",
       "      <th></th>\n",
       "      <th>Desenvolvedora</th>\n",
       "      <th>Quantidade</th>\n",
       "    </tr>\n",
       "  </thead>\n",
       "  <tbody>\n",
       "    <tr>\n",
       "      <th>0</th>\n",
       "      <td>Electronic Arts</td>\n",
       "      <td>1351</td>\n",
       "    </tr>\n",
       "    <tr>\n",
       "      <th>1</th>\n",
       "      <td>Activision</td>\n",
       "      <td>975</td>\n",
       "    </tr>\n",
       "    <tr>\n",
       "      <th>2</th>\n",
       "      <td>Namco Bandai Games</td>\n",
       "      <td>932</td>\n",
       "    </tr>\n",
       "    <tr>\n",
       "      <th>3</th>\n",
       "      <td>Ubisoft</td>\n",
       "      <td>921</td>\n",
       "    </tr>\n",
       "    <tr>\n",
       "      <th>4</th>\n",
       "      <td>Konami Digital Entertainment</td>\n",
       "      <td>832</td>\n",
       "    </tr>\n",
       "    <tr>\n",
       "      <th>5</th>\n",
       "      <td>THQ</td>\n",
       "      <td>715</td>\n",
       "    </tr>\n",
       "    <tr>\n",
       "      <th>6</th>\n",
       "      <td>Nintendo</td>\n",
       "      <td>703</td>\n",
       "    </tr>\n",
       "    <tr>\n",
       "      <th>7</th>\n",
       "      <td>Sony Computer Entertainment</td>\n",
       "      <td>683</td>\n",
       "    </tr>\n",
       "    <tr>\n",
       "      <th>8</th>\n",
       "      <td>Sega</td>\n",
       "      <td>639</td>\n",
       "    </tr>\n",
       "    <tr>\n",
       "      <th>9</th>\n",
       "      <td>Take-Two Interactive</td>\n",
       "      <td>413</td>\n",
       "    </tr>\n",
       "    <tr>\n",
       "      <th>10</th>\n",
       "      <td>Capcom</td>\n",
       "      <td>381</td>\n",
       "    </tr>\n",
       "    <tr>\n",
       "      <th>11</th>\n",
       "      <td>Atari</td>\n",
       "      <td>363</td>\n",
       "    </tr>\n",
       "    <tr>\n",
       "      <th>12</th>\n",
       "      <td>Tecmo Koei</td>\n",
       "      <td>338</td>\n",
       "    </tr>\n",
       "    <tr>\n",
       "      <th>13</th>\n",
       "      <td>Square Enix</td>\n",
       "      <td>233</td>\n",
       "    </tr>\n",
       "    <tr>\n",
       "      <th>14</th>\n",
       "      <td>Warner Bros. Interactive Entertainment</td>\n",
       "      <td>232</td>\n",
       "    </tr>\n",
       "    <tr>\n",
       "      <th>15</th>\n",
       "      <td>Disney Interactive Studios</td>\n",
       "      <td>218</td>\n",
       "    </tr>\n",
       "  </tbody>\n",
       "</table>\n",
       "</div>"
      ],
      "text/plain": [
       "                            Desenvolvedora  Quantidade\n",
       "0                          Electronic Arts        1351\n",
       "1                               Activision         975\n",
       "2                       Namco Bandai Games         932\n",
       "3                                  Ubisoft         921\n",
       "4             Konami Digital Entertainment         832\n",
       "5                                      THQ         715\n",
       "6                                 Nintendo         703\n",
       "7              Sony Computer Entertainment         683\n",
       "8                                     Sega         639\n",
       "9                     Take-Two Interactive         413\n",
       "10                                  Capcom         381\n",
       "11                                   Atari         363\n",
       "12                              Tecmo Koei         338\n",
       "13                             Square Enix         233\n",
       "14  Warner Bros. Interactive Entertainment         232\n",
       "15              Disney Interactive Studios         218"
      ]
     },
     "execution_count": 31,
     "metadata": {},
     "output_type": "execute_result"
    }
   ],
   "source": [
    "table2 = pd.DataFrame(dados.Desenvolvedora.value_counts().head(16)).reset_index()\n",
    "table2.rename(columns = {'index':'Desenvolvedora','Desenvolvedora':'Quantidade'},inplace = True)\n",
    "table2"
   ]
  },
  {
   "cell_type": "code",
   "execution_count": 13,
   "metadata": {},
   "outputs": [
    {
     "data": {
      "text/html": [
       "<div>\n",
       "<style scoped>\n",
       "    .dataframe tbody tr th:only-of-type {\n",
       "        vertical-align: middle;\n",
       "    }\n",
       "\n",
       "    .dataframe tbody tr th {\n",
       "        vertical-align: top;\n",
       "    }\n",
       "\n",
       "    .dataframe thead th {\n",
       "        text-align: right;\n",
       "    }\n",
       "</style>\n",
       "<table border=\"1\" class=\"dataframe\">\n",
       "  <thead>\n",
       "    <tr style=\"text-align: right;\">\n",
       "      <th></th>\n",
       "      <th>Rank</th>\n",
       "      <th>Nome</th>\n",
       "      <th>Plataforma</th>\n",
       "      <th>Ano</th>\n",
       "      <th>Genero</th>\n",
       "      <th>Desenvolvedora</th>\n",
       "      <th>NA_Sales</th>\n",
       "      <th>EU_Sales</th>\n",
       "      <th>JP_Sales</th>\n",
       "      <th>Outras_Vendas</th>\n",
       "      <th>Vendas_Globais</th>\n",
       "    </tr>\n",
       "  </thead>\n",
       "  <tbody>\n",
       "    <tr>\n",
       "      <th>77</th>\n",
       "      <td>78</td>\n",
       "      <td>FIFA 16</td>\n",
       "      <td>PS4</td>\n",
       "      <td>2015.0</td>\n",
       "      <td>Sports</td>\n",
       "      <td>Electronic Arts</td>\n",
       "      <td>1.11</td>\n",
       "      <td>6.06</td>\n",
       "      <td>0.06</td>\n",
       "      <td>1.26</td>\n",
       "      <td>8.49</td>\n",
       "    </tr>\n",
       "    <tr>\n",
       "      <th>82</th>\n",
       "      <td>83</td>\n",
       "      <td>FIFA Soccer 13</td>\n",
       "      <td>PS3</td>\n",
       "      <td>2012.0</td>\n",
       "      <td>Action</td>\n",
       "      <td>Electronic Arts</td>\n",
       "      <td>1.06</td>\n",
       "      <td>5.05</td>\n",
       "      <td>0.13</td>\n",
       "      <td>2.01</td>\n",
       "      <td>8.24</td>\n",
       "    </tr>\n",
       "    <tr>\n",
       "      <th>83</th>\n",
       "      <td>84</td>\n",
       "      <td>The Sims 3</td>\n",
       "      <td>PC</td>\n",
       "      <td>2009.0</td>\n",
       "      <td>Simulation</td>\n",
       "      <td>Electronic Arts</td>\n",
       "      <td>0.98</td>\n",
       "      <td>6.42</td>\n",
       "      <td>0.00</td>\n",
       "      <td>0.71</td>\n",
       "      <td>8.11</td>\n",
       "    </tr>\n",
       "    <tr>\n",
       "      <th>92</th>\n",
       "      <td>93</td>\n",
       "      <td>Star Wars Battlefront (2015)</td>\n",
       "      <td>PS4</td>\n",
       "      <td>2015.0</td>\n",
       "      <td>Shooter</td>\n",
       "      <td>Electronic Arts</td>\n",
       "      <td>2.93</td>\n",
       "      <td>3.29</td>\n",
       "      <td>0.22</td>\n",
       "      <td>1.23</td>\n",
       "      <td>7.67</td>\n",
       "    </tr>\n",
       "    <tr>\n",
       "      <th>99</th>\n",
       "      <td>100</td>\n",
       "      <td>Battlefield 3</td>\n",
       "      <td>X360</td>\n",
       "      <td>2011.0</td>\n",
       "      <td>Shooter</td>\n",
       "      <td>Electronic Arts</td>\n",
       "      <td>4.46</td>\n",
       "      <td>2.13</td>\n",
       "      <td>0.06</td>\n",
       "      <td>0.69</td>\n",
       "      <td>7.34</td>\n",
       "    </tr>\n",
       "    <tr>\n",
       "      <th>...</th>\n",
       "      <td>...</td>\n",
       "      <td>...</td>\n",
       "      <td>...</td>\n",
       "      <td>...</td>\n",
       "      <td>...</td>\n",
       "      <td>...</td>\n",
       "      <td>...</td>\n",
       "      <td>...</td>\n",
       "      <td>...</td>\n",
       "      <td>...</td>\n",
       "      <td>...</td>\n",
       "    </tr>\n",
       "    <tr>\n",
       "      <th>16339</th>\n",
       "      <td>16342</td>\n",
       "      <td>Command &amp; Conquer Renegade</td>\n",
       "      <td>PC</td>\n",
       "      <td>2002.0</td>\n",
       "      <td>Shooter</td>\n",
       "      <td>Electronic Arts</td>\n",
       "      <td>0.00</td>\n",
       "      <td>0.01</td>\n",
       "      <td>0.00</td>\n",
       "      <td>0.00</td>\n",
       "      <td>0.01</td>\n",
       "    </tr>\n",
       "    <tr>\n",
       "      <th>16384</th>\n",
       "      <td>16387</td>\n",
       "      <td>Poker for Dummies</td>\n",
       "      <td>PC</td>\n",
       "      <td>2008.0</td>\n",
       "      <td>Misc</td>\n",
       "      <td>Electronic Arts</td>\n",
       "      <td>0.00</td>\n",
       "      <td>0.01</td>\n",
       "      <td>0.00</td>\n",
       "      <td>0.00</td>\n",
       "      <td>0.01</td>\n",
       "    </tr>\n",
       "    <tr>\n",
       "      <th>16413</th>\n",
       "      <td>16416</td>\n",
       "      <td>The Godfather (JP sales)</td>\n",
       "      <td>X360</td>\n",
       "      <td>2006.0</td>\n",
       "      <td>Action</td>\n",
       "      <td>Electronic Arts</td>\n",
       "      <td>0.00</td>\n",
       "      <td>0.00</td>\n",
       "      <td>0.01</td>\n",
       "      <td>0.00</td>\n",
       "      <td>0.01</td>\n",
       "    </tr>\n",
       "    <tr>\n",
       "      <th>16539</th>\n",
       "      <td>16542</td>\n",
       "      <td>Spore Galactic Adventures</td>\n",
       "      <td>PC</td>\n",
       "      <td>2009.0</td>\n",
       "      <td>Strategy</td>\n",
       "      <td>Electronic Arts</td>\n",
       "      <td>0.00</td>\n",
       "      <td>0.01</td>\n",
       "      <td>0.00</td>\n",
       "      <td>0.00</td>\n",
       "      <td>0.01</td>\n",
       "    </tr>\n",
       "    <tr>\n",
       "      <th>16554</th>\n",
       "      <td>16557</td>\n",
       "      <td>Psychic Detective</td>\n",
       "      <td>PS</td>\n",
       "      <td>1995.0</td>\n",
       "      <td>Adventure</td>\n",
       "      <td>Electronic Arts</td>\n",
       "      <td>0.01</td>\n",
       "      <td>0.00</td>\n",
       "      <td>0.00</td>\n",
       "      <td>0.00</td>\n",
       "      <td>0.01</td>\n",
       "    </tr>\n",
       "  </tbody>\n",
       "</table>\n",
       "<p>1351 rows × 11 columns</p>\n",
       "</div>"
      ],
      "text/plain": [
       "        Rank                          Nome Plataforma     Ano      Genero  \\\n",
       "77        78                       FIFA 16        PS4  2015.0      Sports   \n",
       "82        83                FIFA Soccer 13        PS3  2012.0      Action   \n",
       "83        84                    The Sims 3         PC  2009.0  Simulation   \n",
       "92        93  Star Wars Battlefront (2015)        PS4  2015.0     Shooter   \n",
       "99       100                 Battlefield 3       X360  2011.0     Shooter   \n",
       "...      ...                           ...        ...     ...         ...   \n",
       "16339  16342    Command & Conquer Renegade         PC  2002.0     Shooter   \n",
       "16384  16387             Poker for Dummies         PC  2008.0        Misc   \n",
       "16413  16416      The Godfather (JP sales)       X360  2006.0      Action   \n",
       "16539  16542     Spore Galactic Adventures         PC  2009.0    Strategy   \n",
       "16554  16557             Psychic Detective         PS  1995.0   Adventure   \n",
       "\n",
       "        Desenvolvedora  NA_Sales  EU_Sales  JP_Sales  Outras_Vendas  \\\n",
       "77     Electronic Arts      1.11      6.06      0.06           1.26   \n",
       "82     Electronic Arts      1.06      5.05      0.13           2.01   \n",
       "83     Electronic Arts      0.98      6.42      0.00           0.71   \n",
       "92     Electronic Arts      2.93      3.29      0.22           1.23   \n",
       "99     Electronic Arts      4.46      2.13      0.06           0.69   \n",
       "...                ...       ...       ...       ...            ...   \n",
       "16339  Electronic Arts      0.00      0.01      0.00           0.00   \n",
       "16384  Electronic Arts      0.00      0.01      0.00           0.00   \n",
       "16413  Electronic Arts      0.00      0.00      0.01           0.00   \n",
       "16539  Electronic Arts      0.00      0.01      0.00           0.00   \n",
       "16554  Electronic Arts      0.01      0.00      0.00           0.00   \n",
       "\n",
       "       Vendas_Globais  \n",
       "77               8.49  \n",
       "82               8.24  \n",
       "83               8.11  \n",
       "92               7.67  \n",
       "99               7.34  \n",
       "...               ...  \n",
       "16339            0.01  \n",
       "16384            0.01  \n",
       "16413            0.01  \n",
       "16539            0.01  \n",
       "16554            0.01  \n",
       "\n",
       "[1351 rows x 11 columns]"
      ]
     },
     "execution_count": 13,
     "metadata": {},
     "output_type": "execute_result"
    }
   ],
   "source": [
    "query1 = dados[(dados.Desenvolvedora == 'Electronic Arts')]\n",
    "query1"
   ]
  },
  {
   "cell_type": "code",
   "execution_count": 14,
   "metadata": {},
   "outputs": [
    {
     "data": {
      "text/plain": [
       "Sports          561\n",
       "Action          183\n",
       "Racing          159\n",
       "Shooter         139\n",
       "Simulation      116\n",
       "Misc             46\n",
       "Fighting         39\n",
       "Strategy         37\n",
       "Role-Playing     35\n",
       "Platform         16\n",
       "Adventure        13\n",
       "Puzzle            7\n",
       "Name: Genero, dtype: int64"
      ]
     },
     "execution_count": 14,
     "metadata": {},
     "output_type": "execute_result"
    }
   ],
   "source": [
    "query1.Genero.value_counts()"
   ]
  },
  {
   "cell_type": "code",
   "execution_count": 15,
   "metadata": {},
   "outputs": [
    {
     "data": {
      "text/plain": [
       "Sports          561\n",
       "Action          183\n",
       "Racing          159\n",
       "Shooter         139\n",
       "Simulation      116\n",
       "Misc             46\n",
       "Fighting         39\n",
       "Strategy         37\n",
       "Role-Playing     35\n",
       "Platform         16\n",
       "Adventure        13\n",
       "Puzzle            7\n",
       "Name: Genero, dtype: int64"
      ]
     },
     "execution_count": 15,
     "metadata": {},
     "output_type": "execute_result"
    }
   ],
   "source": [
    "query1.Genero.value_counts()"
   ]
  },
  {
   "cell_type": "code",
   "execution_count": 16,
   "metadata": {},
   "outputs": [
    {
     "data": {
      "text/plain": [
       "Genero\n",
       "Shooter         1.14\n",
       "Role-Playing    1.01\n",
       "Racing          0.92\n",
       "Sports          0.86\n",
       "Fighting        0.80\n",
       "Simulation      0.77\n",
       "Puzzle          0.65\n",
       "Action          0.63\n",
       "Misc            0.54\n",
       "Platform        0.41\n",
       "Strategy        0.38\n",
       "Adventure       0.37\n",
       "Name: Vendas_Globais, dtype: float64"
      ]
     },
     "execution_count": 16,
     "metadata": {},
     "output_type": "execute_result"
    }
   ],
   "source": [
    "query1.groupby('Genero')['Vendas_Globais'].mean().round(2).sort_values(ascending = False)"
   ]
  },
  {
   "cell_type": "code",
   "execution_count": 17,
   "metadata": {},
   "outputs": [],
   "source": [
    "dados2 = pd.DataFrame(genero_vendas)"
   ]
  },
  {
   "cell_type": "code",
   "execution_count": 18,
   "metadata": {},
   "outputs": [
    {
     "data": {
      "text/html": [
       "<div>\n",
       "<style scoped>\n",
       "    .dataframe tbody tr th:only-of-type {\n",
       "        vertical-align: middle;\n",
       "    }\n",
       "\n",
       "    .dataframe tbody tr th {\n",
       "        vertical-align: top;\n",
       "    }\n",
       "\n",
       "    .dataframe thead th {\n",
       "        text-align: right;\n",
       "    }\n",
       "</style>\n",
       "<table border=\"1\" class=\"dataframe\">\n",
       "  <thead>\n",
       "    <tr style=\"text-align: right;\">\n",
       "      <th></th>\n",
       "      <th>Genero</th>\n",
       "      <th>qtd</th>\n",
       "    </tr>\n",
       "  </thead>\n",
       "  <tbody>\n",
       "    <tr>\n",
       "      <th>0</th>\n",
       "      <td>Action</td>\n",
       "      <td>3316</td>\n",
       "    </tr>\n",
       "    <tr>\n",
       "      <th>1</th>\n",
       "      <td>Sports</td>\n",
       "      <td>2346</td>\n",
       "    </tr>\n",
       "    <tr>\n",
       "      <th>2</th>\n",
       "      <td>Misc</td>\n",
       "      <td>1739</td>\n",
       "    </tr>\n",
       "    <tr>\n",
       "      <th>3</th>\n",
       "      <td>Role-Playing</td>\n",
       "      <td>1488</td>\n",
       "    </tr>\n",
       "    <tr>\n",
       "      <th>4</th>\n",
       "      <td>Shooter</td>\n",
       "      <td>1310</td>\n",
       "    </tr>\n",
       "    <tr>\n",
       "      <th>5</th>\n",
       "      <td>Adventure</td>\n",
       "      <td>1286</td>\n",
       "    </tr>\n",
       "    <tr>\n",
       "      <th>6</th>\n",
       "      <td>Racing</td>\n",
       "      <td>1249</td>\n",
       "    </tr>\n",
       "    <tr>\n",
       "      <th>7</th>\n",
       "      <td>Platform</td>\n",
       "      <td>886</td>\n",
       "    </tr>\n",
       "    <tr>\n",
       "      <th>8</th>\n",
       "      <td>Simulation</td>\n",
       "      <td>867</td>\n",
       "    </tr>\n",
       "    <tr>\n",
       "      <th>9</th>\n",
       "      <td>Fighting</td>\n",
       "      <td>848</td>\n",
       "    </tr>\n",
       "    <tr>\n",
       "      <th>10</th>\n",
       "      <td>Strategy</td>\n",
       "      <td>681</td>\n",
       "    </tr>\n",
       "    <tr>\n",
       "      <th>11</th>\n",
       "      <td>Puzzle</td>\n",
       "      <td>582</td>\n",
       "    </tr>\n",
       "  </tbody>\n",
       "</table>\n",
       "</div>"
      ],
      "text/plain": [
       "          Genero   qtd\n",
       "0         Action  3316\n",
       "1         Sports  2346\n",
       "2           Misc  1739\n",
       "3   Role-Playing  1488\n",
       "4        Shooter  1310\n",
       "5      Adventure  1286\n",
       "6         Racing  1249\n",
       "7       Platform   886\n",
       "8     Simulation   867\n",
       "9       Fighting   848\n",
       "10      Strategy   681\n",
       "11        Puzzle   582"
      ]
     },
     "execution_count": 18,
     "metadata": {},
     "output_type": "execute_result"
    }
   ],
   "source": [
    "a = pd.DataFrame(dados.Genero.value_counts())\n",
    "a.sort_values(by = 'Genero', ascending = False, inplace = True)\n",
    "a.reset_index(inplace = True)\n",
    "a.rename(columns = {'index':'Genero','Genero':'qtd'}, inplace = True)\n",
    "a"
   ]
  },
  {
   "cell_type": "code",
   "execution_count": 19,
   "metadata": {},
   "outputs": [
    {
     "data": {
      "text/html": [
       "<div>\n",
       "<style scoped>\n",
       "    .dataframe tbody tr th:only-of-type {\n",
       "        vertical-align: middle;\n",
       "    }\n",
       "\n",
       "    .dataframe tbody tr th {\n",
       "        vertical-align: top;\n",
       "    }\n",
       "\n",
       "    .dataframe thead th {\n",
       "        text-align: right;\n",
       "    }\n",
       "</style>\n",
       "<table border=\"1\" class=\"dataframe\">\n",
       "  <thead>\n",
       "    <tr style=\"text-align: right;\">\n",
       "      <th></th>\n",
       "      <th>Desenvolvedora</th>\n",
       "      <th>qtd</th>\n",
       "    </tr>\n",
       "  </thead>\n",
       "  <tbody>\n",
       "    <tr>\n",
       "      <th>0</th>\n",
       "      <td>Electronic Arts</td>\n",
       "      <td>1351</td>\n",
       "    </tr>\n",
       "    <tr>\n",
       "      <th>1</th>\n",
       "      <td>Activision</td>\n",
       "      <td>975</td>\n",
       "    </tr>\n",
       "    <tr>\n",
       "      <th>2</th>\n",
       "      <td>Namco Bandai Games</td>\n",
       "      <td>932</td>\n",
       "    </tr>\n",
       "    <tr>\n",
       "      <th>3</th>\n",
       "      <td>Ubisoft</td>\n",
       "      <td>921</td>\n",
       "    </tr>\n",
       "    <tr>\n",
       "      <th>4</th>\n",
       "      <td>Konami Digital Entertainment</td>\n",
       "      <td>832</td>\n",
       "    </tr>\n",
       "    <tr>\n",
       "      <th>5</th>\n",
       "      <td>THQ</td>\n",
       "      <td>715</td>\n",
       "    </tr>\n",
       "    <tr>\n",
       "      <th>6</th>\n",
       "      <td>Nintendo</td>\n",
       "      <td>703</td>\n",
       "    </tr>\n",
       "    <tr>\n",
       "      <th>7</th>\n",
       "      <td>Sony Computer Entertainment</td>\n",
       "      <td>683</td>\n",
       "    </tr>\n",
       "    <tr>\n",
       "      <th>8</th>\n",
       "      <td>Sega</td>\n",
       "      <td>639</td>\n",
       "    </tr>\n",
       "    <tr>\n",
       "      <th>9</th>\n",
       "      <td>Take-Two Interactive</td>\n",
       "      <td>413</td>\n",
       "    </tr>\n",
       "    <tr>\n",
       "      <th>10</th>\n",
       "      <td>Capcom</td>\n",
       "      <td>381</td>\n",
       "    </tr>\n",
       "    <tr>\n",
       "      <th>11</th>\n",
       "      <td>Atari</td>\n",
       "      <td>363</td>\n",
       "    </tr>\n",
       "  </tbody>\n",
       "</table>\n",
       "</div>"
      ],
      "text/plain": [
       "                  Desenvolvedora   qtd\n",
       "0                Electronic Arts  1351\n",
       "1                     Activision   975\n",
       "2             Namco Bandai Games   932\n",
       "3                        Ubisoft   921\n",
       "4   Konami Digital Entertainment   832\n",
       "5                            THQ   715\n",
       "6                       Nintendo   703\n",
       "7    Sony Computer Entertainment   683\n",
       "8                           Sega   639\n",
       "9           Take-Two Interactive   413\n",
       "10                        Capcom   381\n",
       "11                         Atari   363"
      ]
     },
     "execution_count": 19,
     "metadata": {},
     "output_type": "execute_result"
    }
   ],
   "source": [
    "b = pd.DataFrame(dados.Desenvolvedora.value_counts())\n",
    "b.sort_values(by = 'Desenvolvedora', ascending = False, inplace = True)\n",
    "b.reset_index(inplace = True)\n",
    "b.rename(columns = {'index':'Desenvolvedora','Desenvolvedora':'qtd'}, inplace = True)\n",
    "b.head(12)"
   ]
  },
  {
   "cell_type": "code",
   "execution_count": 20,
   "metadata": {},
   "outputs": [
    {
     "data": {
      "text/plain": [
       "578"
      ]
     },
     "execution_count": 20,
     "metadata": {},
     "output_type": "execute_result"
    }
   ],
   "source": [
    "len(dados.Desenvolvedora.value_counts())"
   ]
  },
  {
   "cell_type": "code",
   "execution_count": 21,
   "metadata": {},
   "outputs": [
    {
     "data": {
      "text/plain": [
       "Activision            310\n",
       "Namco Bandai Games    248\n",
       "THQ                   194\n",
       "Ubisoft               193\n",
       "Electronic Arts       183\n",
       "                     ... \n",
       "Universal Gamex         1\n",
       "Prototype               1\n",
       "Mycom                   1\n",
       "Global Star             1\n",
       "Men-A-Vision            1\n",
       "Name: Desenvolvedora, Length: 228, dtype: int64"
      ]
     },
     "execution_count": 21,
     "metadata": {},
     "output_type": "execute_result"
    }
   ],
   "source": [
    "c = dados[(dados.Genero == 'Action')]\n",
    "c.Desenvolvedora.value_counts()"
   ]
  },
  {
   "cell_type": "code",
   "execution_count": 22,
   "metadata": {},
   "outputs": [],
   "source": [
    "d = dados[(dados.Genero == 'Sports')]\n",
    "listad = dict(d.Desenvolvedora.value_counts())"
   ]
  }
 ],
 "metadata": {
  "kernelspec": {
   "display_name": "Python 3",
   "language": "python",
   "name": "python3"
  },
  "language_info": {
   "codemirror_mode": {
    "name": "ipython",
    "version": 3
   },
   "file_extension": ".py",
   "mimetype": "text/x-python",
   "name": "python",
   "nbconvert_exporter": "python",
   "pygments_lexer": "ipython3",
   "version": "3.8.3"
  }
 },
 "nbformat": 4,
 "nbformat_minor": 4
}
