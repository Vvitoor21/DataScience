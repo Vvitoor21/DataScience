{
 "cells": [
  {
   "cell_type": "code",
   "execution_count": 1,
   "metadata": {},
   "outputs": [],
   "source": [
    "import pandas as pd\n",
    "import numpy as np\n",
    "import matplotlib.pyplot as plt"
   ]
  },
  {
   "cell_type": "code",
   "execution_count": 2,
   "metadata": {},
   "outputs": [
    {
     "data": {
      "text/html": [
       "<div>\n",
       "<style scoped>\n",
       "    .dataframe tbody tr th:only-of-type {\n",
       "        vertical-align: middle;\n",
       "    }\n",
       "\n",
       "    .dataframe tbody tr th {\n",
       "        vertical-align: top;\n",
       "    }\n",
       "\n",
       "    .dataframe thead th {\n",
       "        text-align: right;\n",
       "    }\n",
       "</style>\n",
       "<table border=\"1\" class=\"dataframe\">\n",
       "  <thead>\n",
       "    <tr style=\"text-align: right;\">\n",
       "      <th></th>\n",
       "      <th>Nome</th>\n",
       "      <th>Sobrenome</th>\n",
       "      <th>Email</th>\n",
       "      <th>Idade</th>\n",
       "      <th>Cidade</th>\n",
       "      <th>Filhos</th>\n",
       "      <th>Altura</th>\n",
       "      <th>Atuação</th>\n",
       "    </tr>\n",
       "  </thead>\n",
       "  <tbody>\n",
       "    <tr>\n",
       "      <th>0</th>\n",
       "      <td>Vitor</td>\n",
       "      <td>Duarte</td>\n",
       "      <td>vitor.duartegot@gmail.com</td>\n",
       "      <td>21</td>\n",
       "      <td>São Paulo</td>\n",
       "      <td>N</td>\n",
       "      <td>1.80</td>\n",
       "      <td>Tecnologia</td>\n",
       "    </tr>\n",
       "    <tr>\n",
       "      <th>1</th>\n",
       "      <td>Amanda</td>\n",
       "      <td>Roberta</td>\n",
       "      <td>amanda.robertinha@gmail.com</td>\n",
       "      <td>25</td>\n",
       "      <td>São Paulo</td>\n",
       "      <td>N</td>\n",
       "      <td>1.70</td>\n",
       "      <td>Saúde</td>\n",
       "    </tr>\n",
       "    <tr>\n",
       "      <th>2</th>\n",
       "      <td>Pedro</td>\n",
       "      <td>Souza</td>\n",
       "      <td>pedro147.souz@gmail.com</td>\n",
       "      <td>28</td>\n",
       "      <td>Rio de Janeiro</td>\n",
       "      <td>S</td>\n",
       "      <td>1.74</td>\n",
       "      <td>Meio Ambiente</td>\n",
       "    </tr>\n",
       "    <tr>\n",
       "      <th>3</th>\n",
       "      <td>Priscila</td>\n",
       "      <td>Pereira</td>\n",
       "      <td>priscila.pereira7@gmail.com</td>\n",
       "      <td>30</td>\n",
       "      <td>Porto Seguro</td>\n",
       "      <td>S</td>\n",
       "      <td>1.90</td>\n",
       "      <td>Medicina</td>\n",
       "    </tr>\n",
       "    <tr>\n",
       "      <th>4</th>\n",
       "      <td>Joaquim</td>\n",
       "      <td>Vieira</td>\n",
       "      <td>joaq.vieira256@gmail.com</td>\n",
       "      <td>23</td>\n",
       "      <td>Belo Horizonte</td>\n",
       "      <td>N</td>\n",
       "      <td>1.75</td>\n",
       "      <td>Engenharia</td>\n",
       "    </tr>\n",
       "    <tr>\n",
       "      <th>5</th>\n",
       "      <td>Thiago</td>\n",
       "      <td>Alvim</td>\n",
       "      <td>alvins.titi28@gmail.com</td>\n",
       "      <td>28</td>\n",
       "      <td>Florianópolis</td>\n",
       "      <td>N</td>\n",
       "      <td>1.65</td>\n",
       "      <td>Direito</td>\n",
       "    </tr>\n",
       "    <tr>\n",
       "      <th>6</th>\n",
       "      <td>Bruna</td>\n",
       "      <td>Silva</td>\n",
       "      <td>Brunasisi44@gmail.com</td>\n",
       "      <td>27</td>\n",
       "      <td>São Paulo</td>\n",
       "      <td>S</td>\n",
       "      <td>1.75</td>\n",
       "      <td>Arte</td>\n",
       "    </tr>\n",
       "    <tr>\n",
       "      <th>7</th>\n",
       "      <td>Fernando</td>\n",
       "      <td>Diamantino</td>\n",
       "      <td>Fernandin.diam878@gmail.com</td>\n",
       "      <td>23</td>\n",
       "      <td>Porto Alegre</td>\n",
       "      <td>S</td>\n",
       "      <td>1.84</td>\n",
       "      <td>Biotecnologia</td>\n",
       "    </tr>\n",
       "    <tr>\n",
       "      <th>8</th>\n",
       "      <td>Paula</td>\n",
       "      <td>Fernandes</td>\n",
       "      <td>paulaF.nades@gmail.com</td>\n",
       "      <td>29</td>\n",
       "      <td>Belém</td>\n",
       "      <td>N</td>\n",
       "      <td>1.80</td>\n",
       "      <td>Esportes</td>\n",
       "    </tr>\n",
       "    <tr>\n",
       "      <th>9</th>\n",
       "      <td>Thiago</td>\n",
       "      <td>Guimarães</td>\n",
       "      <td>guimares.tiago@gmail.com</td>\n",
       "      <td>35</td>\n",
       "      <td>São Paulo</td>\n",
       "      <td>S</td>\n",
       "      <td>1.69</td>\n",
       "      <td>Comunicação</td>\n",
       "    </tr>\n",
       "  </tbody>\n",
       "</table>\n",
       "</div>"
      ],
      "text/plain": [
       "       Nome   Sobrenome                        Email  Idade          Cidade  \\\n",
       "0     Vitor      Duarte    vitor.duartegot@gmail.com     21       São Paulo   \n",
       "1    Amanda     Roberta  amanda.robertinha@gmail.com     25       São Paulo   \n",
       "2     Pedro       Souza      pedro147.souz@gmail.com     28  Rio de Janeiro   \n",
       "3  Priscila     Pereira  priscila.pereira7@gmail.com     30    Porto Seguro   \n",
       "4   Joaquim      Vieira     joaq.vieira256@gmail.com     23  Belo Horizonte   \n",
       "5    Thiago       Alvim      alvins.titi28@gmail.com     28   Florianópolis   \n",
       "6     Bruna       Silva        Brunasisi44@gmail.com     27       São Paulo   \n",
       "7  Fernando  Diamantino  Fernandin.diam878@gmail.com     23    Porto Alegre   \n",
       "8     Paula   Fernandes       paulaF.nades@gmail.com     29           Belém   \n",
       "9    Thiago   Guimarães     guimares.tiago@gmail.com     35       São Paulo   \n",
       "\n",
       "  Filhos  Altura        Atuação  \n",
       "0      N    1.80     Tecnologia  \n",
       "1      N    1.70          Saúde  \n",
       "2      S    1.74  Meio Ambiente  \n",
       "3      S    1.90       Medicina  \n",
       "4      N    1.75     Engenharia  \n",
       "5      N    1.65        Direito  \n",
       "6      S    1.75           Arte  \n",
       "7      S    1.84  Biotecnologia  \n",
       "8      N    1.80       Esportes  \n",
       "9      S    1.69    Comunicação  "
      ]
     },
     "execution_count": 2,
     "metadata": {},
     "output_type": "execute_result"
    }
   ],
   "source": [
    "frame = pd.read_csv('C:/Users/vitor/Estudos/Pessoas.csv') \n",
    "frame "
   ]
  },
  {
   "cell_type": "code",
   "execution_count": 3,
   "metadata": {},
   "outputs": [
    {
     "data": {
      "text/html": [
       "<div>\n",
       "<style scoped>\n",
       "    .dataframe tbody tr th:only-of-type {\n",
       "        vertical-align: middle;\n",
       "    }\n",
       "\n",
       "    .dataframe tbody tr th {\n",
       "        vertical-align: top;\n",
       "    }\n",
       "\n",
       "    .dataframe thead th {\n",
       "        text-align: right;\n",
       "    }\n",
       "</style>\n",
       "<table border=\"1\" class=\"dataframe\">\n",
       "  <thead>\n",
       "    <tr style=\"text-align: right;\">\n",
       "      <th></th>\n",
       "      <th>Nome</th>\n",
       "      <th>Sobrenome</th>\n",
       "      <th>Email</th>\n",
       "      <th>Idade</th>\n",
       "      <th>Cidade</th>\n",
       "      <th>Filhos</th>\n",
       "      <th>Altura</th>\n",
       "      <th>Atuação</th>\n",
       "    </tr>\n",
       "  </thead>\n",
       "  <tbody>\n",
       "    <tr>\n",
       "      <th>0</th>\n",
       "      <td>Vitor</td>\n",
       "      <td>Duarte</td>\n",
       "      <td>vitor.duartegot@gmail.com</td>\n",
       "      <td>21</td>\n",
       "      <td>São Paulo</td>\n",
       "      <td>N</td>\n",
       "      <td>1.80</td>\n",
       "      <td>Tecnologia</td>\n",
       "    </tr>\n",
       "    <tr>\n",
       "      <th>1</th>\n",
       "      <td>Amanda</td>\n",
       "      <td>Roberta</td>\n",
       "      <td>amanda.robertinha@gmail.com</td>\n",
       "      <td>25</td>\n",
       "      <td>São Paulo</td>\n",
       "      <td>N</td>\n",
       "      <td>1.70</td>\n",
       "      <td>Saúde</td>\n",
       "    </tr>\n",
       "    <tr>\n",
       "      <th>2</th>\n",
       "      <td>Pedro</td>\n",
       "      <td>Souza</td>\n",
       "      <td>pedro147.souz@gmail.com</td>\n",
       "      <td>28</td>\n",
       "      <td>Rio de Janeiro</td>\n",
       "      <td>S</td>\n",
       "      <td>1.74</td>\n",
       "      <td>Meio Ambiente</td>\n",
       "    </tr>\n",
       "    <tr>\n",
       "      <th>3</th>\n",
       "      <td>Priscila</td>\n",
       "      <td>Pereira</td>\n",
       "      <td>priscila.pereira7@gmail.com</td>\n",
       "      <td>30</td>\n",
       "      <td>Porto Seguro</td>\n",
       "      <td>S</td>\n",
       "      <td>1.90</td>\n",
       "      <td>Medicina</td>\n",
       "    </tr>\n",
       "    <tr>\n",
       "      <th>4</th>\n",
       "      <td>Joaquim</td>\n",
       "      <td>Vieira</td>\n",
       "      <td>joaq.vieira256@gmail.com</td>\n",
       "      <td>23</td>\n",
       "      <td>Belo Horizonte</td>\n",
       "      <td>N</td>\n",
       "      <td>1.75</td>\n",
       "      <td>Engenharia</td>\n",
       "    </tr>\n",
       "    <tr>\n",
       "      <th>5</th>\n",
       "      <td>Thiago</td>\n",
       "      <td>Alvim</td>\n",
       "      <td>alvins.titi28@gmail.com</td>\n",
       "      <td>28</td>\n",
       "      <td>Florianópolis</td>\n",
       "      <td>N</td>\n",
       "      <td>1.65</td>\n",
       "      <td>Direito</td>\n",
       "    </tr>\n",
       "  </tbody>\n",
       "</table>\n",
       "</div>"
      ],
      "text/plain": [
       "       Nome Sobrenome                        Email  Idade          Cidade  \\\n",
       "0     Vitor    Duarte    vitor.duartegot@gmail.com     21       São Paulo   \n",
       "1    Amanda   Roberta  amanda.robertinha@gmail.com     25       São Paulo   \n",
       "2     Pedro     Souza      pedro147.souz@gmail.com     28  Rio de Janeiro   \n",
       "3  Priscila   Pereira  priscila.pereira7@gmail.com     30    Porto Seguro   \n",
       "4   Joaquim    Vieira     joaq.vieira256@gmail.com     23  Belo Horizonte   \n",
       "5    Thiago     Alvim      alvins.titi28@gmail.com     28   Florianópolis   \n",
       "\n",
       "  Filhos  Altura        Atuação  \n",
       "0      N    1.80     Tecnologia  \n",
       "1      N    1.70          Saúde  \n",
       "2      S    1.74  Meio Ambiente  \n",
       "3      S    1.90       Medicina  \n",
       "4      N    1.75     Engenharia  \n",
       "5      N    1.65        Direito  "
      ]
     },
     "execution_count": 3,
     "metadata": {},
     "output_type": "execute_result"
    }
   ],
   "source": [
    "frame.loc[0:5]"
   ]
  },
  {
   "cell_type": "code",
   "execution_count": 4,
   "metadata": {},
   "outputs": [
    {
     "data": {
      "text/html": [
       "<div>\n",
       "<style scoped>\n",
       "    .dataframe tbody tr th:only-of-type {\n",
       "        vertical-align: middle;\n",
       "    }\n",
       "\n",
       "    .dataframe tbody tr th {\n",
       "        vertical-align: top;\n",
       "    }\n",
       "\n",
       "    .dataframe thead th {\n",
       "        text-align: right;\n",
       "    }\n",
       "</style>\n",
       "<table border=\"1\" class=\"dataframe\">\n",
       "  <thead>\n",
       "    <tr style=\"text-align: right;\">\n",
       "      <th></th>\n",
       "      <th>Email</th>\n",
       "      <th>Idade</th>\n",
       "      <th>Cidade</th>\n",
       "      <th>Filhos</th>\n",
       "      <th>Altura</th>\n",
       "    </tr>\n",
       "  </thead>\n",
       "  <tbody>\n",
       "    <tr>\n",
       "      <th>0</th>\n",
       "      <td>vitor.duartegot@gmail.com</td>\n",
       "      <td>21</td>\n",
       "      <td>São Paulo</td>\n",
       "      <td>N</td>\n",
       "      <td>1.80</td>\n",
       "    </tr>\n",
       "    <tr>\n",
       "      <th>1</th>\n",
       "      <td>amanda.robertinha@gmail.com</td>\n",
       "      <td>25</td>\n",
       "      <td>São Paulo</td>\n",
       "      <td>N</td>\n",
       "      <td>1.70</td>\n",
       "    </tr>\n",
       "    <tr>\n",
       "      <th>2</th>\n",
       "      <td>pedro147.souz@gmail.com</td>\n",
       "      <td>28</td>\n",
       "      <td>Rio de Janeiro</td>\n",
       "      <td>S</td>\n",
       "      <td>1.74</td>\n",
       "    </tr>\n",
       "    <tr>\n",
       "      <th>3</th>\n",
       "      <td>priscila.pereira7@gmail.com</td>\n",
       "      <td>30</td>\n",
       "      <td>Porto Seguro</td>\n",
       "      <td>S</td>\n",
       "      <td>1.90</td>\n",
       "    </tr>\n",
       "  </tbody>\n",
       "</table>\n",
       "</div>"
      ],
      "text/plain": [
       "                         Email  Idade          Cidade Filhos  Altura\n",
       "0    vitor.duartegot@gmail.com     21       São Paulo      N    1.80\n",
       "1  amanda.robertinha@gmail.com     25       São Paulo      N    1.70\n",
       "2      pedro147.souz@gmail.com     28  Rio de Janeiro      S    1.74\n",
       "3  priscila.pereira7@gmail.com     30    Porto Seguro      S    1.90"
      ]
     },
     "execution_count": 4,
     "metadata": {},
     "output_type": "execute_result"
    }
   ],
   "source": [
    "frame.loc[0:3,'Email':'Altura']"
   ]
  },
  {
   "cell_type": "code",
   "execution_count": 16,
   "metadata": {},
   "outputs": [
    {
     "data": {
      "text/plain": [
       "Nome                              Amanda\n",
       "Sobrenome                        Roberta\n",
       "Email        amanda.robertinha@gmail.com\n",
       "Idade                                 25\n",
       "Cidade                         São Paulo\n",
       "Filhos                                 N\n",
       "Altura                               1.7\n",
       "Atuação                            Saúde\n",
       "Name: 1, dtype: object"
      ]
     },
     "execution_count": 16,
     "metadata": {},
     "output_type": "execute_result"
    }
   ],
   "source": [
    "frame.loc[1] #Série"
   ]
  },
  {
   "cell_type": "code",
   "execution_count": 7,
   "metadata": {},
   "outputs": [
    {
     "data": {
      "text/plain": [
       "Nome                           Pedro\n",
       "Sobrenome                      Souza\n",
       "Email        pedro147.souz@gmail.com\n",
       "Idade                             28\n",
       "Cidade                Rio de Janeiro\n",
       "Filhos                             S\n",
       "Altura                          1.74\n",
       "Atuação                Meio Ambiente\n",
       "Name: 2, dtype: object"
      ]
     },
     "execution_count": 7,
     "metadata": {},
     "output_type": "execute_result"
    }
   ],
   "source": [
    "frame.loc[2]"
   ]
  },
  {
   "cell_type": "code",
   "execution_count": 6,
   "metadata": {},
   "outputs": [
    {
     "data": {
      "text/html": [
       "<div>\n",
       "<style scoped>\n",
       "    .dataframe tbody tr th:only-of-type {\n",
       "        vertical-align: middle;\n",
       "    }\n",
       "\n",
       "    .dataframe tbody tr th {\n",
       "        vertical-align: top;\n",
       "    }\n",
       "\n",
       "    .dataframe thead th {\n",
       "        text-align: right;\n",
       "    }\n",
       "</style>\n",
       "<table border=\"1\" class=\"dataframe\">\n",
       "  <thead>\n",
       "    <tr style=\"text-align: right;\">\n",
       "      <th></th>\n",
       "      <th>Nome</th>\n",
       "      <th>Sobrenome</th>\n",
       "      <th>Email</th>\n",
       "      <th>Idade</th>\n",
       "      <th>Cidade</th>\n",
       "      <th>Filhos</th>\n",
       "      <th>Altura</th>\n",
       "      <th>Atuação</th>\n",
       "    </tr>\n",
       "  </thead>\n",
       "  <tbody>\n",
       "    <tr>\n",
       "      <th>7</th>\n",
       "      <td>Fernando</td>\n",
       "      <td>Diamantino</td>\n",
       "      <td>Fernandin.diam878@gmail.com</td>\n",
       "      <td>23</td>\n",
       "      <td>Porto Alegre</td>\n",
       "      <td>S</td>\n",
       "      <td>1.84</td>\n",
       "      <td>Biotecnologia</td>\n",
       "    </tr>\n",
       "    <tr>\n",
       "      <th>8</th>\n",
       "      <td>Paula</td>\n",
       "      <td>Fernandes</td>\n",
       "      <td>paulaF.nades@gmail.com</td>\n",
       "      <td>29</td>\n",
       "      <td>Belém</td>\n",
       "      <td>N</td>\n",
       "      <td>1.80</td>\n",
       "      <td>Esportes</td>\n",
       "    </tr>\n",
       "    <tr>\n",
       "      <th>9</th>\n",
       "      <td>Thiago</td>\n",
       "      <td>Guimarães</td>\n",
       "      <td>guimares.tiago@gmail.com</td>\n",
       "      <td>35</td>\n",
       "      <td>São Paulo</td>\n",
       "      <td>S</td>\n",
       "      <td>1.69</td>\n",
       "      <td>Comunicação</td>\n",
       "    </tr>\n",
       "  </tbody>\n",
       "</table>\n",
       "</div>"
      ],
      "text/plain": [
       "       Nome   Sobrenome                        Email  Idade        Cidade  \\\n",
       "7  Fernando  Diamantino  Fernandin.diam878@gmail.com     23  Porto Alegre   \n",
       "8     Paula   Fernandes       paulaF.nades@gmail.com     29         Belém   \n",
       "9    Thiago   Guimarães     guimares.tiago@gmail.com     35     São Paulo   \n",
       "\n",
       "  Filhos  Altura        Atuação  \n",
       "7      S    1.84  Biotecnologia  \n",
       "8      N    1.80       Esportes  \n",
       "9      S    1.69    Comunicação  "
      ]
     },
     "execution_count": 6,
     "metadata": {},
     "output_type": "execute_result"
    }
   ],
   "source": [
    "frame.loc[7:9]"
   ]
  },
  {
   "cell_type": "code",
   "execution_count": 18,
   "metadata": {},
   "outputs": [
    {
     "data": {
      "text/html": [
       "<div>\n",
       "<style scoped>\n",
       "    .dataframe tbody tr th:only-of-type {\n",
       "        vertical-align: middle;\n",
       "    }\n",
       "\n",
       "    .dataframe tbody tr th {\n",
       "        vertical-align: top;\n",
       "    }\n",
       "\n",
       "    .dataframe thead th {\n",
       "        text-align: right;\n",
       "    }\n",
       "</style>\n",
       "<table border=\"1\" class=\"dataframe\">\n",
       "  <thead>\n",
       "    <tr style=\"text-align: right;\">\n",
       "      <th></th>\n",
       "      <th>Nome</th>\n",
       "      <th>Sobrenome</th>\n",
       "      <th>Email</th>\n",
       "      <th>Idade</th>\n",
       "      <th>Cidade</th>\n",
       "      <th>Filhos</th>\n",
       "      <th>Altura</th>\n",
       "      <th>Atuação</th>\n",
       "    </tr>\n",
       "  </thead>\n",
       "  <tbody>\n",
       "    <tr>\n",
       "      <th>0</th>\n",
       "      <td>Vitor</td>\n",
       "      <td>Duarte</td>\n",
       "      <td>vitor.duartegot@gmail.com</td>\n",
       "      <td>21</td>\n",
       "      <td>São Paulo</td>\n",
       "      <td>N</td>\n",
       "      <td>1.8</td>\n",
       "      <td>Tecnologia</td>\n",
       "    </tr>\n",
       "  </tbody>\n",
       "</table>\n",
       "</div>"
      ],
      "text/plain": [
       "    Nome Sobrenome                      Email  Idade     Cidade Filhos  \\\n",
       "0  Vitor    Duarte  vitor.duartegot@gmail.com     21  São Paulo      N   \n",
       "\n",
       "   Altura     Atuação  \n",
       "0     1.8  Tecnologia  "
      ]
     },
     "execution_count": 18,
     "metadata": {},
     "output_type": "execute_result"
    }
   ],
   "source": [
    "frame.loc[[0]]"
   ]
  },
  {
   "cell_type": "code",
   "execution_count": 19,
   "metadata": {},
   "outputs": [
    {
     "data": {
      "text/html": [
       "<div>\n",
       "<style scoped>\n",
       "    .dataframe tbody tr th:only-of-type {\n",
       "        vertical-align: middle;\n",
       "    }\n",
       "\n",
       "    .dataframe tbody tr th {\n",
       "        vertical-align: top;\n",
       "    }\n",
       "\n",
       "    .dataframe thead th {\n",
       "        text-align: right;\n",
       "    }\n",
       "</style>\n",
       "<table border=\"1\" class=\"dataframe\">\n",
       "  <thead>\n",
       "    <tr style=\"text-align: right;\">\n",
       "      <th></th>\n",
       "      <th>Nome</th>\n",
       "      <th>Sobrenome</th>\n",
       "      <th>Email</th>\n",
       "      <th>Idade</th>\n",
       "      <th>Cidade</th>\n",
       "      <th>Filhos</th>\n",
       "      <th>Altura</th>\n",
       "      <th>Atuação</th>\n",
       "    </tr>\n",
       "  </thead>\n",
       "  <tbody>\n",
       "    <tr>\n",
       "      <th>1</th>\n",
       "      <td>Amanda</td>\n",
       "      <td>Roberta</td>\n",
       "      <td>amanda.robertinha@gmail.com</td>\n",
       "      <td>25</td>\n",
       "      <td>São Paulo</td>\n",
       "      <td>N</td>\n",
       "      <td>1.7</td>\n",
       "      <td>Saúde</td>\n",
       "    </tr>\n",
       "  </tbody>\n",
       "</table>\n",
       "</div>"
      ],
      "text/plain": [
       "     Nome Sobrenome                        Email  Idade     Cidade Filhos  \\\n",
       "1  Amanda   Roberta  amanda.robertinha@gmail.com     25  São Paulo      N   \n",
       "\n",
       "   Altura Atuação  \n",
       "1     1.7   Saúde  "
      ]
     },
     "execution_count": 19,
     "metadata": {},
     "output_type": "execute_result"
    }
   ],
   "source": [
    "frame.loc[[1]]"
   ]
  },
  {
   "cell_type": "code",
   "execution_count": 20,
   "metadata": {},
   "outputs": [
    {
     "data": {
      "text/html": [
       "<div>\n",
       "<style scoped>\n",
       "    .dataframe tbody tr th:only-of-type {\n",
       "        vertical-align: middle;\n",
       "    }\n",
       "\n",
       "    .dataframe tbody tr th {\n",
       "        vertical-align: top;\n",
       "    }\n",
       "\n",
       "    .dataframe thead th {\n",
       "        text-align: right;\n",
       "    }\n",
       "</style>\n",
       "<table border=\"1\" class=\"dataframe\">\n",
       "  <thead>\n",
       "    <tr style=\"text-align: right;\">\n",
       "      <th></th>\n",
       "      <th>Nome</th>\n",
       "      <th>Sobrenome</th>\n",
       "      <th>Email</th>\n",
       "      <th>Idade</th>\n",
       "      <th>Cidade</th>\n",
       "      <th>Filhos</th>\n",
       "      <th>Altura</th>\n",
       "      <th>Atuação</th>\n",
       "    </tr>\n",
       "  </thead>\n",
       "  <tbody>\n",
       "    <tr>\n",
       "      <th>2</th>\n",
       "      <td>Pedro</td>\n",
       "      <td>Souza</td>\n",
       "      <td>pedro147.souz@gmail.com</td>\n",
       "      <td>28</td>\n",
       "      <td>Rio de Janeiro</td>\n",
       "      <td>S</td>\n",
       "      <td>1.74</td>\n",
       "      <td>Meio Ambiente</td>\n",
       "    </tr>\n",
       "  </tbody>\n",
       "</table>\n",
       "</div>"
      ],
      "text/plain": [
       "    Nome Sobrenome                    Email  Idade          Cidade Filhos  \\\n",
       "2  Pedro     Souza  pedro147.souz@gmail.com     28  Rio de Janeiro      S   \n",
       "\n",
       "   Altura        Atuação  \n",
       "2    1.74  Meio Ambiente  "
      ]
     },
     "execution_count": 20,
     "metadata": {},
     "output_type": "execute_result"
    }
   ],
   "source": [
    "frame.loc[[2]]"
   ]
  },
  {
   "cell_type": "code",
   "execution_count": 21,
   "metadata": {},
   "outputs": [
    {
     "data": {
      "text/html": [
       "<div>\n",
       "<style scoped>\n",
       "    .dataframe tbody tr th:only-of-type {\n",
       "        vertical-align: middle;\n",
       "    }\n",
       "\n",
       "    .dataframe tbody tr th {\n",
       "        vertical-align: top;\n",
       "    }\n",
       "\n",
       "    .dataframe thead th {\n",
       "        text-align: right;\n",
       "    }\n",
       "</style>\n",
       "<table border=\"1\" class=\"dataframe\">\n",
       "  <thead>\n",
       "    <tr style=\"text-align: right;\">\n",
       "      <th></th>\n",
       "      <th>Nome</th>\n",
       "    </tr>\n",
       "  </thead>\n",
       "  <tbody>\n",
       "    <tr>\n",
       "      <th>0</th>\n",
       "      <td>Vitor</td>\n",
       "    </tr>\n",
       "    <tr>\n",
       "      <th>1</th>\n",
       "      <td>Amanda</td>\n",
       "    </tr>\n",
       "    <tr>\n",
       "      <th>2</th>\n",
       "      <td>Pedro</td>\n",
       "    </tr>\n",
       "    <tr>\n",
       "      <th>3</th>\n",
       "      <td>Priscila</td>\n",
       "    </tr>\n",
       "    <tr>\n",
       "      <th>4</th>\n",
       "      <td>Joaquim</td>\n",
       "    </tr>\n",
       "    <tr>\n",
       "      <th>5</th>\n",
       "      <td>Thiago</td>\n",
       "    </tr>\n",
       "    <tr>\n",
       "      <th>6</th>\n",
       "      <td>Bruna</td>\n",
       "    </tr>\n",
       "    <tr>\n",
       "      <th>7</th>\n",
       "      <td>Fernando</td>\n",
       "    </tr>\n",
       "    <tr>\n",
       "      <th>8</th>\n",
       "      <td>Paula</td>\n",
       "    </tr>\n",
       "    <tr>\n",
       "      <th>9</th>\n",
       "      <td>Thiago</td>\n",
       "    </tr>\n",
       "  </tbody>\n",
       "</table>\n",
       "</div>"
      ],
      "text/plain": [
       "       Nome\n",
       "0     Vitor\n",
       "1    Amanda\n",
       "2     Pedro\n",
       "3  Priscila\n",
       "4   Joaquim\n",
       "5    Thiago\n",
       "6     Bruna\n",
       "7  Fernando\n",
       "8     Paula\n",
       "9    Thiago"
      ]
     },
     "execution_count": 21,
     "metadata": {},
     "output_type": "execute_result"
    }
   ],
   "source": [
    "frame[['Nome']]"
   ]
  },
  {
   "cell_type": "code",
   "execution_count": 8,
   "metadata": {},
   "outputs": [
    {
     "data": {
      "text/html": [
       "<div>\n",
       "<style scoped>\n",
       "    .dataframe tbody tr th:only-of-type {\n",
       "        vertical-align: middle;\n",
       "    }\n",
       "\n",
       "    .dataframe tbody tr th {\n",
       "        vertical-align: top;\n",
       "    }\n",
       "\n",
       "    .dataframe thead th {\n",
       "        text-align: right;\n",
       "    }\n",
       "</style>\n",
       "<table border=\"1\" class=\"dataframe\">\n",
       "  <thead>\n",
       "    <tr style=\"text-align: right;\">\n",
       "      <th></th>\n",
       "      <th>Nome</th>\n",
       "    </tr>\n",
       "  </thead>\n",
       "  <tbody>\n",
       "    <tr>\n",
       "      <th>0</th>\n",
       "      <td>Vitor</td>\n",
       "    </tr>\n",
       "  </tbody>\n",
       "</table>\n",
       "</div>"
      ],
      "text/plain": [
       "    Nome\n",
       "0  Vitor"
      ]
     },
     "execution_count": 8,
     "metadata": {},
     "output_type": "execute_result"
    }
   ],
   "source": [
    "frame.loc[[0],['Nome']]"
   ]
  },
  {
   "cell_type": "code",
   "execution_count": 9,
   "metadata": {},
   "outputs": [
    {
     "data": {
      "text/plain": [
       "'Vitor'"
      ]
     },
     "execution_count": 9,
     "metadata": {},
     "output_type": "execute_result"
    }
   ],
   "source": [
    "frame.loc[0,'Nome']"
   ]
  },
  {
   "cell_type": "code",
   "execution_count": 22,
   "metadata": {},
   "outputs": [
    {
     "data": {
      "text/html": [
       "<div>\n",
       "<style scoped>\n",
       "    .dataframe tbody tr th:only-of-type {\n",
       "        vertical-align: middle;\n",
       "    }\n",
       "\n",
       "    .dataframe tbody tr th {\n",
       "        vertical-align: top;\n",
       "    }\n",
       "\n",
       "    .dataframe thead th {\n",
       "        text-align: right;\n",
       "    }\n",
       "</style>\n",
       "<table border=\"1\" class=\"dataframe\">\n",
       "  <thead>\n",
       "    <tr style=\"text-align: right;\">\n",
       "      <th></th>\n",
       "      <th>Atuação</th>\n",
       "    </tr>\n",
       "  </thead>\n",
       "  <tbody>\n",
       "    <tr>\n",
       "      <th>0</th>\n",
       "      <td>Tecnologia</td>\n",
       "    </tr>\n",
       "    <tr>\n",
       "      <th>1</th>\n",
       "      <td>Saúde</td>\n",
       "    </tr>\n",
       "    <tr>\n",
       "      <th>2</th>\n",
       "      <td>Meio Ambiente</td>\n",
       "    </tr>\n",
       "    <tr>\n",
       "      <th>3</th>\n",
       "      <td>Medicina</td>\n",
       "    </tr>\n",
       "    <tr>\n",
       "      <th>4</th>\n",
       "      <td>Engenharia</td>\n",
       "    </tr>\n",
       "    <tr>\n",
       "      <th>5</th>\n",
       "      <td>Direito</td>\n",
       "    </tr>\n",
       "    <tr>\n",
       "      <th>6</th>\n",
       "      <td>Arte</td>\n",
       "    </tr>\n",
       "    <tr>\n",
       "      <th>7</th>\n",
       "      <td>Biotecnologia</td>\n",
       "    </tr>\n",
       "    <tr>\n",
       "      <th>8</th>\n",
       "      <td>Esportes</td>\n",
       "    </tr>\n",
       "    <tr>\n",
       "      <th>9</th>\n",
       "      <td>Comunicação</td>\n",
       "    </tr>\n",
       "  </tbody>\n",
       "</table>\n",
       "</div>"
      ],
      "text/plain": [
       "         Atuação\n",
       "0     Tecnologia\n",
       "1          Saúde\n",
       "2  Meio Ambiente\n",
       "3       Medicina\n",
       "4     Engenharia\n",
       "5        Direito\n",
       "6           Arte\n",
       "7  Biotecnologia\n",
       "8       Esportes\n",
       "9    Comunicação"
      ]
     },
     "execution_count": 22,
     "metadata": {},
     "output_type": "execute_result"
    }
   ],
   "source": [
    "frame[['Atuação']]"
   ]
  },
  {
   "cell_type": "code",
   "execution_count": 23,
   "metadata": {},
   "outputs": [
    {
     "data": {
      "text/html": [
       "<div>\n",
       "<style scoped>\n",
       "    .dataframe tbody tr th:only-of-type {\n",
       "        vertical-align: middle;\n",
       "    }\n",
       "\n",
       "    .dataframe tbody tr th {\n",
       "        vertical-align: top;\n",
       "    }\n",
       "\n",
       "    .dataframe thead th {\n",
       "        text-align: right;\n",
       "    }\n",
       "</style>\n",
       "<table border=\"1\" class=\"dataframe\">\n",
       "  <thead>\n",
       "    <tr style=\"text-align: right;\">\n",
       "      <th></th>\n",
       "      <th>Idade</th>\n",
       "    </tr>\n",
       "  </thead>\n",
       "  <tbody>\n",
       "    <tr>\n",
       "      <th>0</th>\n",
       "      <td>21</td>\n",
       "    </tr>\n",
       "    <tr>\n",
       "      <th>1</th>\n",
       "      <td>25</td>\n",
       "    </tr>\n",
       "    <tr>\n",
       "      <th>2</th>\n",
       "      <td>28</td>\n",
       "    </tr>\n",
       "    <tr>\n",
       "      <th>3</th>\n",
       "      <td>30</td>\n",
       "    </tr>\n",
       "    <tr>\n",
       "      <th>4</th>\n",
       "      <td>23</td>\n",
       "    </tr>\n",
       "    <tr>\n",
       "      <th>5</th>\n",
       "      <td>28</td>\n",
       "    </tr>\n",
       "    <tr>\n",
       "      <th>6</th>\n",
       "      <td>27</td>\n",
       "    </tr>\n",
       "    <tr>\n",
       "      <th>7</th>\n",
       "      <td>23</td>\n",
       "    </tr>\n",
       "    <tr>\n",
       "      <th>8</th>\n",
       "      <td>29</td>\n",
       "    </tr>\n",
       "    <tr>\n",
       "      <th>9</th>\n",
       "      <td>35</td>\n",
       "    </tr>\n",
       "  </tbody>\n",
       "</table>\n",
       "</div>"
      ],
      "text/plain": [
       "   Idade\n",
       "0     21\n",
       "1     25\n",
       "2     28\n",
       "3     30\n",
       "4     23\n",
       "5     28\n",
       "6     27\n",
       "7     23\n",
       "8     29\n",
       "9     35"
      ]
     },
     "execution_count": 23,
     "metadata": {},
     "output_type": "execute_result"
    }
   ],
   "source": [
    "frame[['Idade']]"
   ]
  },
  {
   "cell_type": "code",
   "execution_count": 24,
   "metadata": {},
   "outputs": [
    {
     "data": {
      "text/plain": [
       "0       Vitor\n",
       "1      Amanda\n",
       "2       Pedro\n",
       "3    Priscila\n",
       "4     Joaquim\n",
       "5      Thiago\n",
       "6       Bruna\n",
       "7    Fernando\n",
       "8       Paula\n",
       "9      Thiago\n",
       "Name: Nome, dtype: object"
      ]
     },
     "execution_count": 24,
     "metadata": {},
     "output_type": "execute_result"
    }
   ],
   "source": [
    "frame.loc[0:9,'Nome']"
   ]
  },
  {
   "cell_type": "code",
   "execution_count": 23,
   "metadata": {},
   "outputs": [
    {
     "data": {
      "text/plain": [
       "array(['Vitor', 'Amanda', 'Pedro', 'Priscila', 'Joaquim', 'Thiago',\n",
       "       'Bruna', 'Fernando', 'Paula', 'Thiago'], dtype=object)"
      ]
     },
     "execution_count": 23,
     "metadata": {},
     "output_type": "execute_result"
    }
   ],
   "source": [
    "nomes = np.array(frame.loc[0:9,'Nome'])\n",
    "nomes"
   ]
  },
  {
   "cell_type": "code",
   "execution_count": 24,
   "metadata": {},
   "outputs": [
    {
     "data": {
      "text/plain": [
       "array([21, 25, 28, 30, 23, 28, 27, 23, 29, 35], dtype=int64)"
      ]
     },
     "execution_count": 24,
     "metadata": {},
     "output_type": "execute_result"
    }
   ],
   "source": [
    "idades =  np.array(frame.loc[0:9,'Idade'])\n",
    "idades"
   ]
  },
  {
   "cell_type": "code",
   "execution_count": 27,
   "metadata": {},
   "outputs": [
    {
     "data": {
      "image/png": "[encoded data removed]",
      "text/plain": [
       "<Figure size 432x288 with 1 Axes>"
      ]
     },
     "metadata": {
      "needs_background": "light"
     },
     "output_type": "display_data"
    }
   ],
   "source": [
    "plt.bar(nomes,idades,color='black')\n",
    "plt.title('Nomes e Idades')\n",
    "plt.xlabel('Nomes')\n",
    "plt.ylabel('Idades')\n",
    "plt.xticks(rotation = 45)\n",
    "plt.show()"
   ]
  },
  {
   "cell_type": "code",
   "execution_count": 15,
   "metadata": {},
   "outputs": [
    {
     "data": {
      "image/png": "[encoded data removed]",
      "text/plain": [
       "<Figure size 432x288 with 1 Axes>"
      ]
     },
     "metadata": {
      "needs_background": "light"
     },
     "output_type": "display_data"
    }
   ],
   "source": [
    "plt.barh(frame.Nome,frame.Idade,color='blue')\n",
    "plt.title('Nomes e Idades')\n",
    "plt.xlabel('Idades')\n",
    "plt.ylabel('Nomes')\n",
    "plt.xticks(rotation = 45)\n",
    "plt.show()"
   ]
  },
  {
   "cell_type": "code",
   "execution_count": 19,
   "metadata": {},
   "outputs": [
    {
     "data": {
      "text/html": [
       "<div>\n",
       "<style scoped>\n",
       "    .dataframe tbody tr th:only-of-type {\n",
       "        vertical-align: middle;\n",
       "    }\n",
       "\n",
       "    .dataframe tbody tr th {\n",
       "        vertical-align: top;\n",
       "    }\n",
       "\n",
       "    .dataframe thead th {\n",
       "        text-align: right;\n",
       "    }\n",
       "</style>\n",
       "<table border=\"1\" class=\"dataframe\">\n",
       "  <thead>\n",
       "    <tr style=\"text-align: right;\">\n",
       "      <th></th>\n",
       "      <th>Nome</th>\n",
       "      <th>Sobrenome</th>\n",
       "      <th>Email</th>\n",
       "      <th>Idade</th>\n",
       "      <th>Cidade</th>\n",
       "      <th>Filhos</th>\n",
       "      <th>Altura</th>\n",
       "      <th>Atuação</th>\n",
       "    </tr>\n",
       "  </thead>\n",
       "  <tbody>\n",
       "    <tr>\n",
       "      <th>0</th>\n",
       "      <td>Vitor</td>\n",
       "      <td>Duarte</td>\n",
       "      <td>vitor.duartegot@gmail.com</td>\n",
       "      <td>21</td>\n",
       "      <td>São Paulo</td>\n",
       "      <td>N</td>\n",
       "      <td>1.80</td>\n",
       "      <td>Tecnologia</td>\n",
       "    </tr>\n",
       "    <tr>\n",
       "      <th>1</th>\n",
       "      <td>Amanda</td>\n",
       "      <td>Roberta</td>\n",
       "      <td>amanda.robertinha@gmail.com</td>\n",
       "      <td>25</td>\n",
       "      <td>São Paulo</td>\n",
       "      <td>N</td>\n",
       "      <td>1.70</td>\n",
       "      <td>Saúde</td>\n",
       "    </tr>\n",
       "    <tr>\n",
       "      <th>2</th>\n",
       "      <td>Pedro</td>\n",
       "      <td>Souza</td>\n",
       "      <td>pedro147.souz@gmail.com</td>\n",
       "      <td>28</td>\n",
       "      <td>Rio de Janeiro</td>\n",
       "      <td>S</td>\n",
       "      <td>1.74</td>\n",
       "      <td>Meio Ambiente</td>\n",
       "    </tr>\n",
       "    <tr>\n",
       "      <th>3</th>\n",
       "      <td>Priscila</td>\n",
       "      <td>Pereira</td>\n",
       "      <td>priscila.pereira7@gmail.com</td>\n",
       "      <td>30</td>\n",
       "      <td>Porto Seguro</td>\n",
       "      <td>S</td>\n",
       "      <td>1.90</td>\n",
       "      <td>Medicina</td>\n",
       "    </tr>\n",
       "    <tr>\n",
       "      <th>4</th>\n",
       "      <td>Joaquim</td>\n",
       "      <td>Vieira</td>\n",
       "      <td>joaq.vieira256@gmail.com</td>\n",
       "      <td>23</td>\n",
       "      <td>Belo Horizonte</td>\n",
       "      <td>N</td>\n",
       "      <td>1.75</td>\n",
       "      <td>Engenharia</td>\n",
       "    </tr>\n",
       "    <tr>\n",
       "      <th>5</th>\n",
       "      <td>Thiago</td>\n",
       "      <td>Alvim</td>\n",
       "      <td>alvins.titi28@gmail.com</td>\n",
       "      <td>28</td>\n",
       "      <td>Florianópolis</td>\n",
       "      <td>N</td>\n",
       "      <td>1.65</td>\n",
       "      <td>Direito</td>\n",
       "    </tr>\n",
       "    <tr>\n",
       "      <th>6</th>\n",
       "      <td>Bruna</td>\n",
       "      <td>Silva</td>\n",
       "      <td>Brunasisi44@gmail.com</td>\n",
       "      <td>27</td>\n",
       "      <td>São Paulo</td>\n",
       "      <td>S</td>\n",
       "      <td>1.75</td>\n",
       "      <td>Arte</td>\n",
       "    </tr>\n",
       "    <tr>\n",
       "      <th>7</th>\n",
       "      <td>Fernando</td>\n",
       "      <td>Diamantino</td>\n",
       "      <td>Fernandin.diam878@gmail.com</td>\n",
       "      <td>23</td>\n",
       "      <td>Porto Alegre</td>\n",
       "      <td>S</td>\n",
       "      <td>1.84</td>\n",
       "      <td>Biotecnologia</td>\n",
       "    </tr>\n",
       "    <tr>\n",
       "      <th>8</th>\n",
       "      <td>Paula</td>\n",
       "      <td>Fernandes</td>\n",
       "      <td>paulaF.nades@gmail.com</td>\n",
       "      <td>29</td>\n",
       "      <td>Belém</td>\n",
       "      <td>N</td>\n",
       "      <td>1.80</td>\n",
       "      <td>Esportes</td>\n",
       "    </tr>\n",
       "    <tr>\n",
       "      <th>9</th>\n",
       "      <td>Thiago</td>\n",
       "      <td>Guimarães</td>\n",
       "      <td>guimares.tiago@gmail.com</td>\n",
       "      <td>35</td>\n",
       "      <td>São Paulo</td>\n",
       "      <td>S</td>\n",
       "      <td>1.69</td>\n",
       "      <td>Comunicação</td>\n",
       "    </tr>\n",
       "  </tbody>\n",
       "</table>\n",
       "</div>"
      ],
      "text/plain": [
       "       Nome   Sobrenome                        Email  Idade          Cidade  \\\n",
       "0     Vitor      Duarte    vitor.duartegot@gmail.com     21       São Paulo   \n",
       "1    Amanda     Roberta  amanda.robertinha@gmail.com     25       São Paulo   \n",
       "2     Pedro       Souza      pedro147.souz@gmail.com     28  Rio de Janeiro   \n",
       "3  Priscila     Pereira  priscila.pereira7@gmail.com     30    Porto Seguro   \n",
       "4   Joaquim      Vieira     joaq.vieira256@gmail.com     23  Belo Horizonte   \n",
       "5    Thiago       Alvim      alvins.titi28@gmail.com     28   Florianópolis   \n",
       "6     Bruna       Silva        Brunasisi44@gmail.com     27       São Paulo   \n",
       "7  Fernando  Diamantino  Fernandin.diam878@gmail.com     23    Porto Alegre   \n",
       "8     Paula   Fernandes       paulaF.nades@gmail.com     29           Belém   \n",
       "9    Thiago   Guimarães     guimares.tiago@gmail.com     35       São Paulo   \n",
       "\n",
       "  Filhos  Altura        Atuação  \n",
       "0      N    1.80     Tecnologia  \n",
       "1      N    1.70          Saúde  \n",
       "2      S    1.74  Meio Ambiente  \n",
       "3      S    1.90       Medicina  \n",
       "4      N    1.75     Engenharia  \n",
       "5      N    1.65        Direito  \n",
       "6      S    1.75           Arte  \n",
       "7      S    1.84  Biotecnologia  \n",
       "8      N    1.80       Esportes  \n",
       "9      S    1.69    Comunicação  "
      ]
     },
     "execution_count": 19,
     "metadata": {},
     "output_type": "execute_result"
    }
   ],
   "source": [
    "frame"
   ]
  },
  {
   "cell_type": "code",
   "execution_count": 20,
   "metadata": {},
   "outputs": [
    {
     "data": {
      "text/plain": [
       "array([1.8 , 1.7 , 1.74, 1.9 , 1.75, 1.65, 1.75, 1.84, 1.8 , 1.69])"
      ]
     },
     "execution_count": 20,
     "metadata": {},
     "output_type": "execute_result"
    }
   ],
   "source": [
    "alturas = np.array(frame.loc[0:9,'Altura'])\n",
    "alturas"
   ]
  },
  {
   "cell_type": "code",
   "execution_count": 26,
   "metadata": {},
   "outputs": [
    {
     "data": {
      "image/png": "[encoded data removed]",
      "text/plain": [
       "<Figure size 432x288 with 1 Axes>"
      ]
     },
     "metadata": {
      "needs_background": "light"
     },
     "output_type": "display_data"
    }
   ],
   "source": [
    "plt.bar(nomes,alturas,color='r')\n",
    "plt.title('Alturas')\n",
    "plt.xticks(rotation = 45)\n",
    "plt.show()"
   ]
  },
  {
   "cell_type": "code",
   "execution_count": 31,
   "metadata": {},
   "outputs": [
    {
     "data": {
      "text/plain": [
       "1.762"
      ]
     },
     "execution_count": 31,
     "metadata": {},
     "output_type": "execute_result"
    }
   ],
   "source": [
    "frame.Altura.mean()"
   ]
  }
 ],
 "metadata": {
  "kernelspec": {
   "display_name": "Python 3",
   "language": "python",
   "name": "python3"
  },
  "language_info": {
   "codemirror_mode": {
    "name": "ipython",
    "version": 3
   },
   "file_extension": ".py",
   "mimetype": "text/x-python",
   "name": "python",
   "nbconvert_exporter": "python",
   "pygments_lexer": "ipython3",
   "version": "3.8.3"
  }
 },
 "nbformat": 4,
 "nbformat_minor": 4
}
